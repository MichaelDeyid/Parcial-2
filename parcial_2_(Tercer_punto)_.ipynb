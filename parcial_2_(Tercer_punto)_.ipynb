{
  "nbformat": 4,
  "nbformat_minor": 0,
  "metadata": {
    "colab": {
      "private_outputs": true,
      "provenance": [],
      "include_colab_link": true
    },
    "kernelspec": {
      "name": "python3",
      "display_name": "Python 3"
    },
    "language_info": {
      "name": "python"
    }
  },
  "cells": [
    {
      "cell_type": "markdown",
      "metadata": {
        "id": "view-in-github",
        "colab_type": "text"
      },
      "source": [
        "<a href=\"https://colab.research.google.com/github/MichaelDeyid/Parcial-2/blob/main/parcial_2_(Tercer_punto)_.ipynb\" target=\"_parent\"><img src=\"https://colab.research.google.com/assets/colab-badge.svg\" alt=\"Open In Colab\"/></a>"
      ]
    },
    {
      "cell_type": "markdown",
      "source": [
        "# Case Western Reserve Experiments\n",
        "\n",
        "\n",
        "Sea la base de datos para el monitoreo de condición (fallos) en rodamientos a partir del análisis de vibraciones descrita en [Case Western Reserve Experiments](https://engineering.case.edu/bearingdatacenter). Las señales fueron adquiridas para las siguientes condiciones (clases): i) Normal bearing (Nor), fault in the internal train (IR1), fault in the external train (IR2), and fault in the rolling element-ball (BE). Además, los fallos se generaron para tres niveles de severidad (profundidad): 0.007′′, 0.014′′, and 0.021′′ y tres velocidades de operación (1730, 1750, 1772, and 1797 [rpm]). Los datos fueron adquiridos a 12 kHz. Por consiguiente, se tienen los siguientes parámetros de estudio: $F_s=12k$ [Hz] cantidad de puntos en el tiempo $4096$ y cantidad de clases $C = 10$.\n",
        "\n",
        "Grafique la señal promedio de cada fallo en el tiempo y en la frecuencia.\n",
        "\n",
        "Utilizando la transformada rápida de Fourier diseñe y construya un detector fallos en rodamientos a partir de señales de vibración y sus etiquetas en los arreglos Xtrain y Ytrain (ver cuaderno de apoyo). Genere las predicciones de fallos para el arreglo Xtest."
      ],
      "metadata": {
        "id": "RdP1id0o3Ry0"
      }
    },
    {
      "cell_type": "code",
      "execution_count": null,
      "metadata": {
        "id": "3lKHA47I1-UE"
      },
      "outputs": [],
      "source": [
        "#data downloaded for google drive\n",
        "FILEID = \"1IC11LrPCZIo_Am5eXP2p2tDAlrGTlPjn\"\n",
        "!wget --load-cookies /tmp/cookies.txt \"https://docs.google.com/uc?export=download&confirm=$(wget --quiet --save-cookies /tmp/cookies.txt --keep-session-cookies --no-check-certificate 'https://docs.google.com/uc?export=download&id='$FILEID -O- | sed -rn 's/.*confirm=([0-9A-Za-z_]+).*/\\1\\n/p')&id=\"$FILEID -O datos.zip && rm -rf /tmp/cookies.txt\n",
        "!unzip -o datos.zip\n",
        "!dir"
      ]
    },
    {
      "cell_type": "code",
      "source": [
        "#librerias\n",
        "import scipy.io as sio\n",
        "from sklearn.decomposition import PCA\n",
        "from sklearn.manifold import TSNE\n",
        "from sklearn.preprocessing import MinMaxScaler, StandardScaler\n",
        "import numpy as np\n",
        "import matplotlib.pyplot as plt\n",
        "from matplotlib.ticker import FormatStrFormatter\n",
        "import warnings\n",
        "from sklearn.metrics import pairwise_distances\n",
        "import matplotlib\n",
        "from sklearn.model_selection import train_test_split\n",
        "\n",
        "warnings.filterwarnings('ignore')\n",
        "\n",
        "#cargar datos\n",
        "path_ = 'CaractCE.mat'#Case Western Database\n",
        "dicX = sio.loadmat(path_)"
      ],
      "metadata": {
        "id": "FeQgT1n13EZI"
      },
      "execution_count": null,
      "outputs": []
    },
    {
      "cell_type": "code",
      "source": [
        "Xt = dicX['F'] #datos en el tiempo\n",
        "Fs = 12000 #frecuencia de muestreo\n",
        "Tl = Xt.shape[1]/Fs #tamaño del segmento\n",
        "print('Xt shape:',Xt.shape)\n",
        "print('tiempo [s]', Tl)\n",
        "\n",
        "Y = dicX['E']\n",
        "Ytrue = Y[:,2] #clases fallos en los rodamientos\n",
        "\n",
        "labels_ = ['NOR','IR1_0.007´´','IR1_0.014´´','IR1_0.021´´',\n",
        "           'IR2_0.007´´','IR2_0.014´´','IR2_0.021´´',\n",
        "           'BE_0.007´´','BE_0.014´´','BE_0.021´´'\n",
        "           ] #nombres de las clases"
      ],
      "metadata": {
        "id": "1yN9Ox193IbR"
      },
      "execution_count": null,
      "outputs": []
    },
    {
      "cell_type": "code",
      "source": [
        "print(Ytrue.shape) #etique membresia de los datos 10 posibles valores\n",
        "print(np.unique(Ytrue))"
      ],
      "metadata": {
        "id": "HbuSRvEN3K0-"
      },
      "execution_count": null,
      "outputs": []
    },
    {
      "cell_type": "code",
      "source": [
        "#partir datos para train y test\n",
        "Xtrain, Xtest, Ytrain, _ = train_test_split(Xt, Ytrue, test_size=0.3)\n",
        "\n",
        "print(f\"Xtrain shape {Xtrain.shape}, Ytrain shape {Ytrain.shape }Xtest shape {Xtest.shape} \")"
      ],
      "metadata": {
        "id": "x3TqREMU3LHz"
      },
      "execution_count": null,
      "outputs": []
    },
    {
      "cell_type": "code",
      "source": [
        "#calcular espectro de Fourier Xtrain\n",
        "vf = np.fft.rfftfreq(Xtrain.shape[1],1/Fs) #freq vector\n",
        "Xw = (abs(np.fft.rfft(Xtrain))) # FFT\n",
        "Xw.shape"
      ],
      "metadata": {
        "id": "r0VZN69T3auJ"
      },
      "execution_count": null,
      "outputs": []
    },
    {
      "cell_type": "code",
      "source": [
        "#graficar espectro para clases representativas\n",
        "sca_ = MinMaxScaler()\n",
        "Xw_ = sca_.fit_transform(Xw.T).T\n",
        "#red = TSNE(perplexity = 15,n_components=2,random_state=123,learning_rate='auto',init='pca')\n",
        "red = PCA(n_components=2)\n",
        "Z = red.fit_transform(Xw_)\n",
        "\n",
        "plt.scatter(Z[:,0],Z[:,1],c=Ytrain, label='Xtrain')\n",
        "plt.colorbar()\n",
        "plt.show()"
      ],
      "metadata": {
        "id": "fphITOjOYW2O"
      },
      "execution_count": null,
      "outputs": []
    },
    {
      "cell_type": "code",
      "source": [
        "# Crear una lista para almacenar los promedios de cada clase\n",
        "promedios_tiempo = []\n",
        "\n",
        "# Calcular el promedio en el tiempo para cada clase\n",
        "for clase in np.unique(Ytrue):\n",
        "    promedio_clase = np.mean(Xtrain[Ytrain == clase], axis=0)\n",
        "    promedios_tiempo.append(promedio_clase)\n",
        "\n",
        "# Graficar el promedio en el tiempo de cada clase\n",
        "plt.figure(figsize=(12, 6))\n",
        "for i, promedio_clase in enumerate(promedios_tiempo):\n",
        "    plt.plot(promedio_clase, label=labels_[i])\n",
        "\n",
        "plt.title(\"Promedio en el tiempo de cada clase de fallo\")\n",
        "plt.xlabel(\"Muestras en el tiempo\")\n",
        "plt.ylabel(\"Amplitud\")\n",
        "plt.legend()\n",
        "plt.grid(True)\n",
        "plt.show()"
      ],
      "metadata": {
        "id": "Vi3tcb6clV5R"
      },
      "execution_count": null,
      "outputs": []
    },
    {
      "cell_type": "code",
      "source": [
        "# Calcular el promedio en la frecuencia para cada clase\n",
        "promedios_frecuencia = []\n",
        "\n",
        "for clase in np.unique(Ytrain):\n",
        "    espectros = Xw[Ytrain == clase]\n",
        "    promedio_espectro = np.mean(espectros, axis=0)\n",
        "    promedios_frecuencia.append(promedio_espectro)\n",
        "\n",
        "# Graficar el promedio en la frecuencia de cada clase\n",
        "plt.figure(figsize=(12, 6))\n",
        "for i, promedio_espectro in enumerate(promedios_frecuencia):\n",
        "    plt.plot(vf, promedio_espectro, label=labels_[i])\n",
        "\n",
        "plt.title(\"Promedio en la frecuencia de cada clase de fallo\")\n",
        "plt.xlabel(\"Frecuencia (Hz)\")\n",
        "plt.ylabel(\"Amplitud\")\n",
        "plt.legend()\n",
        "plt.grid(True)\n",
        "plt.show()\n"
      ],
      "metadata": {
        "id": "IfJNcPTTlsMX"
      },
      "execution_count": null,
      "outputs": []
    },
    {
      "cell_type": "code",
      "source": [
        "import numpy as np\n",
        "\n",
        "#Se calcula la media y la desviación estándar\n",
        "media = np.mean(Xw)\n",
        "desviacion_estandar = np.std(Xw)\n",
        "\n",
        "#Se normaliza utilizando la normalización Z-score\n",
        "Xw_normalizado = (Xw - media) / desviacion_estandar\n",
        "Xw_normalizado"
      ],
      "metadata": {
        "id": "NUjgwV4YaUS-"
      },
      "execution_count": null,
      "outputs": []
    },
    {
      "cell_type": "code",
      "source": [
        "#calcular espectro de Fourier Xtest\n",
        "vx = np.fft.rfftfreq(Xtest.shape[1],1/Fs) #freq vector\n",
        "Xwtest = (abs(np.fft.rfft(Xtest))) # FFT\n",
        "Xwtest.shape"
      ],
      "metadata": {
        "id": "EVzvITk2aZHh"
      },
      "execution_count": null,
      "outputs": []
    },
    {
      "cell_type": "code",
      "source": [
        "#graficar espectro de los Xw test\n",
        "sca_test = MinMaxScaler()\n",
        "Xw_t = sca_.fit_transform(Xwtest.T).T\n",
        "#red = TSNE(perplexity = 15,n_components=2,random_state=123,learning_rate='auto',init='pca')\n",
        "red_test = PCA(n_components=2)\n",
        "Z_test = red.fit_transform(Xw_t)\n",
        "\n",
        "plt.scatter(Z[:,0],Z[:,1], label='Xtrain')\n",
        "plt.colorbar()\n",
        "plt.show()"
      ],
      "metadata": {
        "id": "79-UCnlgUn-S"
      },
      "execution_count": null,
      "outputs": []
    },
    {
      "cell_type": "code",
      "source": [
        "import numpy as np\n",
        "\n",
        "#Se calcula la media y la desviación estándar de xwtest\n",
        "media1 = np.mean(Xwtest)\n",
        "desviacion_estandar1 = np.std(Xwtest)\n",
        "\n",
        "#Se normaliza Xw test utilizando la normalización Z-score\n",
        "Xw_normalizado1 = (Xwtest - media1) / desviacion_estandar1\n",
        "Xw_normalizado1"
      ],
      "metadata": {
        "id": "QcSsq2Syapjb"
      },
      "execution_count": null,
      "outputs": []
    },
    {
      "cell_type": "code",
      "source": [
        "#Se comparan las bases de datos con las entradas\n",
        "from scipy.spatial.distance import cdist\n",
        "import  numpy as np\n",
        "\n",
        "Lista_de_fallos = [] #lista que recibirá los tipos de fallos para cada entrada\n",
        "\n",
        "for o in range (len(Xtest)):       #ciclo que recorre el número de entradas(tests) a procesar para este caso 360\n",
        "  Distancia = cdist(Xw_normalizado1,Xw_normalizado) #Se encuentra la distancia entre la base de datos y todas las entradas\n",
        "  Lista_de_fallos.append(Ytrain[np.argmin(Distancia[o,])]) #se encuentra la mínima distancia comparada con Ytrain y se guarda en la lista de fallos con su respectivo número de fallo,"
      ],
      "metadata": {
        "id": "olt3ZPZBa3CO"
      },
      "execution_count": null,
      "outputs": []
    },
    {
      "cell_type": "code",
      "source": [
        "Lista_de_fallos #Números correspondientes a cada fallo"
      ],
      "metadata": {
        "id": "c5ChNLK6bPwM"
      },
      "execution_count": null,
      "outputs": []
    },
    {
      "cell_type": "code",
      "source": [
        "numero_de_fallo = np.unique(Ytrue) #números correspondientes a cada fallo\n",
        "print(labels_) #Nombres de los fallos\n",
        "print(numero_de_fallo)"
      ],
      "metadata": {
        "id": "2qDRhBS-ZiKH"
      },
      "execution_count": null,
      "outputs": []
    },
    {
      "cell_type": "code",
      "source": [
        "#Se creó una función que guarde en un diccionario en el que reciba el nombre del fallo y el número correspondiente a su fallo (ej : \"NOR\":1)\n",
        "def asignar_numeros(x,y ):\n",
        "    diccionario = {}\n",
        "\n",
        "    for i in range(len(x)):\n",
        "        diccionario[x[i]] = y[i]\n",
        "\n",
        "    return diccionario\n",
        "\n",
        "resultado = asignar_numeros(labels_, numero_de_fallo)\n",
        "print(resultado)"
      ],
      "metadata": {
        "id": "4DKzIMqneBwc"
      },
      "execution_count": null,
      "outputs": []
    },
    {
      "cell_type": "code",
      "source": [
        "#Se crea una función que reciba cada número de fallo correspondiente de la lista de fallos y le asigne el nombre del fallo con el diccionario anteriormente creado\n",
        "def obtener_nombres(D, lista_valores):\n",
        "    nombres_correspondientes = []\n",
        "\n",
        "    for valor in lista_valores:\n",
        "        for nombre, val in D.items():\n",
        "            if val == valor:\n",
        "                nombres_correspondientes.append(nombre)\n",
        "                break\n",
        "        else:\n",
        "            nombres_correspondientes.append(None)\n",
        "\n",
        "    return nombres_correspondientes\n",
        "\n",
        "\n",
        "resultados = obtener_nombres(resultado, Lista_de_fallos)\n",
        "print(resultados)"
      ],
      "metadata": {
        "id": "qXUqn7mKfqBy"
      },
      "execution_count": null,
      "outputs": []
    }
  ]
}